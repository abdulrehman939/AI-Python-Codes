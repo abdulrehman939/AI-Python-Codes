{
 "cells": [
  {
   "cell_type": "code",
   "execution_count": 1,
   "id": "8ae8a417",
   "metadata": {},
   "outputs": [
    {
     "name": "stdout",
     "output_type": "stream",
     "text": [
      "Original flattened array:\n",
      " [[0 1]\n",
      " [2 3]]\n",
      "Maximum value of the above flattened array: 3\n",
      "Minimum value of the above flattened array: 0\n"
     ]
    }
   ],
   "source": [
    "import numpy as np\n",
    "\n",
    "arr = np.array([[0, 1], [2, 3]])\n",
    "print(\"Original flattened array:\\n\", arr)\n",
    "print(\"Maximum value of the above flattened array:\", arr.max())\n",
    "print(\"Minimum value of the above flattened array:\", arr.min())\n"
   ]
  },
  {
   "cell_type": "code",
   "execution_count": 2,
   "id": "f253e7cc",
   "metadata": {},
   "outputs": [
    {
     "name": "stdout",
     "output_type": "stream",
     "text": [
      "3x3 matrix with values ranging from 2 to 10:\n",
      "[[ 2  3  4]\n",
      " [ 5  6  7]\n",
      " [ 8  9 10]]\n"
     ]
    }
   ],
   "source": [
    "import numpy as np\n",
    "\n",
    "matrix = np.arange(2, 11).reshape(3, 3)\n",
    "print(\"3x3 matrix with values ranging from 2 to 10:\")\n",
    "print(matrix)\n"
   ]
  },
  {
   "cell_type": "code",
   "execution_count": 3,
   "id": "cf5a99db",
   "metadata": {},
   "outputs": [
    {
     "name": "stdout",
     "output_type": "stream",
     "text": [
      "Original array: [1 2 3 4]\n",
      "Array converted to a float type: [1. 2. 3. 4.]\n"
     ]
    }
   ],
   "source": [
    "import numpy as np\n",
    "\n",
    "arr = np.array([1, 2, 3, 4])\n",
    "print(\"Original array:\", arr)\n",
    "\n",
    "float_arr = arr.astype(float)\n",
    "print(\"Array converted to a float type:\", float_arr)\n"
   ]
  },
  {
   "cell_type": "code",
   "execution_count": 4,
   "id": "67bd60ee",
   "metadata": {},
   "outputs": [
    {
     "name": "stdout",
     "output_type": "stream",
     "text": [
      "Result of matrix multiplication:\n",
      " [[5 5]\n",
      " [2 1]]\n",
      "Transpose of the resultant matrix:\n",
      " [[5 2]\n",
      " [5 1]]\n"
     ]
    }
   ],
   "source": [
    "import numpy as np\n",
    "\n",
    "M1 = np.array([[5, 5], [1, 2]])\n",
    "M2 = np.array([[0, 1], [1, 0]])\n",
    "\n",
    "result = np.dot(M1, M2)\n",
    "transpose = result.T\n",
    "\n",
    "print(\"Result of matrix multiplication:\\n\", result)\n",
    "print(\"Transpose of the resultant matrix:\\n\", transpose)\n"
   ]
  },
  {
   "cell_type": "code",
   "execution_count": 5,
   "id": "a54d09b5",
   "metadata": {},
   "outputs": [
    {
     "name": "stdout",
     "output_type": "stream",
     "text": [
      "Inverse matrix:\n",
      " [[ 0.13368984  0.10695187  0.02139037 -0.09090909]\n",
      " [-0.00229183  0.02673797  0.14820474 -0.12987013]\n",
      " [-0.12987013  0.18181818  0.06493506 -0.02597403]\n",
      " [ 0.11000764 -0.28342246 -0.11382735  0.23376623]]\n"
     ]
    }
   ],
   "source": [
    "import numpy as np\n",
    "\n",
    "A = np.array([\n",
    "    [6, 1, 1, 3],\n",
    "    [4, -2, 5, 1],\n",
    "    [2, 8, 7, 6],\n",
    "    [3, 1, 9, 7]\n",
    "], dtype=float)\n",
    "\n",
    "A_inv = np.linalg.inv(A)\n",
    "print(\"Inverse matrix:\\n\", np.round(A_inv, 8))\n"
   ]
  }
 ],
 "metadata": {
  "kernelspec": {
   "display_name": "Python 3",
   "language": "python",
   "name": "python3"
  },
  "language_info": {
   "codemirror_mode": {
    "name": "ipython",
    "version": 3
   },
   "file_extension": ".py",
   "mimetype": "text/x-python",
   "name": "python",
   "nbconvert_exporter": "python",
   "pygments_lexer": "ipython3",
   "version": "3.14.0"
  }
 },
 "nbformat": 4,
 "nbformat_minor": 5
}
