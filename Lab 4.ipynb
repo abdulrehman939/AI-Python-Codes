{
 "cells": [
  {
   "cell_type": "code",
   "execution_count": 1,
   "id": "36673bcd",
   "metadata": {},
   "outputs": [
    {
     "name": "stdout",
     "output_type": "stream",
     "text": [
      "Area of Circle: 78.53981633974483\n",
      "Perimeter of Circle: 31.41592653589793\n"
     ]
    }
   ],
   "source": [
    "import math\n",
    "\n",
    "class Circle:\n",
    "    def __init__(self, radius):\n",
    "        self.radius = radius\n",
    "\n",
    "    def area(self):\n",
    "        return math.pi * self.radius ** 2\n",
    "\n",
    "    def perimeter(self):\n",
    "        return 2 * math.pi * self.radius\n",
    "\n",
    "c = Circle(5)\n",
    "print(\"Area of Circle:\", c.area())\n",
    "print(\"Perimeter of Circle:\", c.perimeter())\n"
   ]
  },
  {
   "cell_type": "code",
   "execution_count": null,
   "id": "e877e942",
   "metadata": {},
   "outputs": [
    {
     "name": "stdout",
     "output_type": "stream",
     "text": [
      "2^3 = 8\n",
      "5^-2 = 0.04\n",
      "(-2)^3 = -8\n"
     ]
    }
   ],
   "source": [
    "class Power:\n",
    "    def pow(self, x, n):\n",
    "        if n == 0:\n",
    "            return 1\n",
    "        elif n > 0:\n",
    "            result = 1\n",
    "            for i in range(n):\n",
    "                result *= x\n",
    "            return result\n",
    "        else:\n",
    "            result = 1\n",
    "            for i in range(-n):\n",
    "                result *= x\n",
    "            return 1 / result\n",
    "\n",
    "p = Power()\n",
    "print(\"2^3 =\", p.pow(2, 3))\n",
    "print(\"5^-2 =\", p.pow(5, -2))\n",
    "print(\"(-2)^3 =\", p.pow(-2, 3))\n"
   ]
  },
  {
   "cell_type": "code",
   "execution_count": null,
   "id": "1511ccb5",
   "metadata": {},
   "outputs": [
    {
     "name": "stdout",
     "output_type": "stream",
     "text": [
      "Name: Shape of You\n",
      "Description: Popular song\n",
      "Price: $1.99\n",
      "Playing MP3 'Shape of You' by Ed Sheeran.\n",
      "Viewing trailer of 'Inception' featuring Leonardo DiCaprio, Joseph Gordon-Levitt.\n",
      "Previewing book 'Harry Potter' by J.K. Rowling.\n"
     ]
    }
   ],
   "source": [
    "class Item:\n",
    "    def __init__(self, name, description, price):\n",
    "        self.name = name\n",
    "        self.description = description\n",
    "        self.price = price\n",
    "\n",
    "    def viewFullDescription(self):\n",
    "        print(f\"Name: {self.name}\")\n",
    "        print(f\"Description: {self.description}\")\n",
    "        print(f\"Price: ${self.price}\")\n",
    "\n",
    "    def addToShoppingBasket(self):\n",
    "        print(f\"{self.name} added to shopping basket.\")\n",
    "\n",
    "    def removeFromShoppingBasket(self):\n",
    "        print(f\"{self.name} removed from shopping basket.\")\n",
    "\n",
    "\n",
    "class MP3(Item):\n",
    "    def __init__(self, name, description, price, artist, duration):\n",
    "        super().__init__(name, description, price)\n",
    "        self.artist = artist\n",
    "        self.duration = duration\n",
    "\n",
    "    def play(self):\n",
    "        print(f\"Playing MP3 '{self.name}' by {self.artist}.\")\n",
    "\n",
    "    def download(self):\n",
    "        print(f\"Downloading MP3 '{self.name}'.\")\n",
    "\n",
    "\n",
    "class DVD(Item):\n",
    "    def __init__(self, name, description, price, certificate, duration, actors):\n",
    "        super().__init__(name, description, price)\n",
    "        self.certificate = certificate\n",
    "        self.duration = duration\n",
    "        self.actors = actors\n",
    "\n",
    "    def viewTrailer(self):\n",
    "        print(f\"Viewing trailer of '{self.name}' featuring {', '.join(self.actors)}.\")\n",
    "\n",
    "\n",
    "class Book(Item):\n",
    "    def __init__(self, name, description, price, author, numberOfPages, genre):\n",
    "        super().__init__(name, description, price)\n",
    "        self.author = author\n",
    "        self.numberOfPages = numberOfPages\n",
    "        self.genre = genre\n",
    "\n",
    "    def previewContent(self):\n",
    "        print(f\"Previewing book '{self.name}' by {self.author}.\")\n",
    "\n",
    "\n",
    "mp3 = MP3(\"Shape of You\", \"Popular song\", 1.99, \"Ed Sheeran\", \"4:23\")\n",
    "dvd = DVD(\"Inception\", \"Sci-Fi Movie\", 14.99, \"PG-13\", \"2h 28m\", [\"Leonardo DiCaprio\", \"Joseph Gordon-Levitt\"])\n",
    "book = Book(\"Harry Potter\", \"Fantasy Novel\", 9.99, \"J.K. Rowling\", 500, \"Fantasy\")\n",
    "\n",
    "mp3.viewFullDescription()\n",
    "mp3.play()\n",
    "dvd.viewTrailer()\n",
    "book.previewContent()\n"
   ]
  },
  {
   "cell_type": "code",
   "execution_count": 5,
   "id": "629a2f89",
   "metadata": {},
   "outputs": [
    {
     "name": "stdout",
     "output_type": "stream",
     "text": [
      "Employee Details:\n",
      "Name: Abdul Rehman\n",
      "Age: 18\n",
      "Designation: Software Engineer\n",
      "Salary: $55000\n"
     ]
    }
   ],
   "source": [
    "# Class for Person\n",
    "class Person:\n",
    "    def __init__(self, name, age):\n",
    "        self.name = name\n",
    "        self.age = age\n",
    "\n",
    "\n",
    "# Class for Job\n",
    "class Job:\n",
    "    def __init__(self, designation, salary):\n",
    "        self.designation = designation\n",
    "        self.salary = salary\n",
    "\n",
    "\n",
    "# Employee class inheriting from both Person and Job\n",
    "class Employee(Person, Job):\n",
    "    def __init__(self, name, age, designation, salary):\n",
    "        # Initialize both parent classes\n",
    "        Person.__init__(self, name, age)\n",
    "        Job.__init__(self, designation, salary)\n",
    "\n",
    "    def displayDetails(self):\n",
    "        print(\"Employee Details:\")\n",
    "        print(f\"Name: {self.name}\")\n",
    "        print(f\"Age: {self.age}\")\n",
    "        print(f\"Designation: {self.designation}\")\n",
    "        print(f\"Salary: ${self.salary}\")\n",
    "\n",
    "\n",
    "emp1 = Employee(\"Abdul Rehman\", 18, \"Software Engineer\", 55000)\n",
    "emp1.displayDetails()\n"
   ]
  }
 ],
 "metadata": {
  "kernelspec": {
   "display_name": "Python 3",
   "language": "python",
   "name": "python3"
  },
  "language_info": {
   "codemirror_mode": {
    "name": "ipython",
    "version": 3
   },
   "file_extension": ".py",
   "mimetype": "text/x-python",
   "name": "python",
   "nbconvert_exporter": "python",
   "pygments_lexer": "ipython3",
   "version": "3.14.0"
  }
 },
 "nbformat": 4,
 "nbformat_minor": 5
}
