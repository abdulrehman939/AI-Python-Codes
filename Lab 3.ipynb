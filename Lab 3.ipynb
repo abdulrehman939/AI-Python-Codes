{
 "cells": [
  {
   "cell_type": "code",
   "execution_count": null,
   "id": "c4f24789",
   "metadata": {},
   "outputs": [
    {
     "name": "stdout",
     "output_type": "stream",
     "text": [
      "Factorial of 5 is: 120\n"
     ]
    }
   ],
   "source": [
    "def factorial(n):\n",
    "    if n == 0 or n == 1:\n",
    "        return 1\n",
    "    else:\n",
    "        return n * factorial(n - 1)\n",
    "\n",
    "try:\n",
    "    num = int(input(\"Enter a number: \"))\n",
    "    print(\"Factorial of\", num, \"is:\", factorial(num))\n",
    "except ValueError:\n",
    "    print(\"Invalid input. Please enter a valid integer.\")\n"
   ]
  },
  {
   "cell_type": "code",
   "execution_count": 11,
   "id": "c1c4e958",
   "metadata": {},
   "outputs": [
    {
     "name": "stdout",
     "output_type": "stream",
     "text": [
      "Sample List: [1, 2, 3, 3, 4, 4, 5, 3, 7, 5]\n",
      "Unique List: [1, 2, 3, 4, 5, 7]\n"
     ]
    }
   ],
   "source": [
    "def unique_list(lst):\n",
    "    unique = []\n",
    "    for item in lst:\n",
    "        if item not in unique:\n",
    "            unique.append(item)\n",
    "    return unique\n",
    "\n",
    "sample = [1, 2, 3, 3, 4, 4, 5, 3, 7, 5]\n",
    "print(\"Sample List:\", sample)\n",
    "print(\"Unique List:\", unique_list(sample))\n"
   ]
  },
  {
   "cell_type": "code",
   "execution_count": 10,
   "id": "831aa728",
   "metadata": {},
   "outputs": [
    {
     "name": "stdout",
     "output_type": "stream",
     "text": [
      "Even Numbers: [2, 4, 6]\n",
      "Sum: 12\n",
      "Product: 48\n"
     ]
    }
   ],
   "source": [
    "def even_numbers(n):\n",
    "    evens = [2 * i for i in range(1, n + 1)]\n",
    "    return evens\n",
    "\n",
    "def sum_and_product(lst):\n",
    "    s = sum(lst)\n",
    "    p = 1\n",
    "    for num in lst:\n",
    "        p *= num\n",
    "    return s, p\n",
    "\n",
    "n = int(input(\"Enter how many even numbers you want: \"))\n",
    "evens = even_numbers(n)\n",
    "s, p = sum_and_product(evens)\n",
    "\n",
    "print(\"Even Numbers:\", evens)\n",
    "print(\"Sum:\", s)\n",
    "print(\"Product:\", p)\n"
   ]
  },
  {
   "cell_type": "code",
   "execution_count": null,
   "id": "563985d1",
   "metadata": {},
   "outputs": [
    {
     "name": "stdout",
     "output_type": "stream",
     "text": [
      "Strings do not match ❌\n"
     ]
    }
   ],
   "source": [
    "def match_strings(str1, str2):\n",
    "    if str1 == str2:\n",
    "        print(\"Strings match ✅\")\n",
    "    else:\n",
    "        print(\"Strings do not match \")\n",
    "\n",
    "# Example\n",
    "s1 = input(\"Enter first string: \")\n",
    "s2 = input(\"Enter second string: \")\n",
    "match_strings(s1, s2)\n"
   ]
  },
  {
   "cell_type": "code",
   "execution_count": 16,
   "id": "ad8bb5c2",
   "metadata": {},
   "outputs": [
    {
     "name": "stdout",
     "output_type": "stream",
     "text": [
      "Login successful! Welcome, admin\n"
     ]
    }
   ],
   "source": [
    "def login_system():\n",
    "    # Stored username and password\n",
    "    username = \"admin\"\n",
    "    password = \"1234\"\n",
    "\n",
    "    # Ask user for input\n",
    "    user = input(\"Enter username: \")\n",
    "    pwd = input(\"Enter password: \")\n",
    "\n",
    "    # Check login\n",
    "    if user == username and pwd == password:\n",
    "        print(\"Login successful! Welcome,\", user)\n",
    "    else:\n",
    "        print(\"Invalid username or password!\")\n",
    "        \n",
    "login_system()\n",
    "\n"
   ]
  }
 ],
 "metadata": {
  "kernelspec": {
   "display_name": "Python 3",
   "language": "python",
   "name": "python3"
  },
  "language_info": {
   "codemirror_mode": {
    "name": "ipython",
    "version": 3
   },
   "file_extension": ".py",
   "mimetype": "text/x-python",
   "name": "python",
   "nbconvert_exporter": "python",
   "pygments_lexer": "ipython3",
   "version": "3.14.0"
  }
 },
 "nbformat": 4,
 "nbformat_minor": 5
}
